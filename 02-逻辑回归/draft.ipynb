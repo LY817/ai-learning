{
 "cells": [
  {
   "cell_type": "markdown",
   "source": [
    "在逻辑回归中，我们的目标是对每个样本进行二分类预测，即将每个样本分到类别0或1。\n",
    "\n",
    "对于一个给定的样本 $x$，我们用 $\\theta$ 来表示模型参数，$h_{\\theta}(x)$ 表示该样本被预测为类别1的概率。\n",
    "\n",
    "在计算损失函数时，我们需要定义每个样本被正确分类的概率。对于样本的真实标签 $y=1$，我们希望该样本被分类为类别1的概率 $h_{\\theta}(x)$ 越大越好，而对于 $y=0$ 的样本，则希望该样本被分类为类别0的概率 $1-h_{\\theta}(x)$ 越大越好。\n",
    "\n",
    "综合以上考虑，我们可以得到以下推导过程：\n",
    "\n",
    "$$\n",
    "P(y) = \\begin{cases} h_{\\theta}(x) & \\text{if } y = 1 \\\\ 1 - h_{\\theta}(x) & \\text{if } y = 0 \\end{cases}\n",
    "$$\n",
    "\n",
    "当 $y=1$ 时，样本被正确分类的概率为 $h_{\\theta}(x)$，即 $P(y|x;\\theta) = h_{\\theta}(x)$。当 $y=0$ 时，样本被正确分类的概率为 $1-h_{\\theta}(x)$，即 $P(y=0|x;\\theta) = 1 - h_{\\theta}(x)$。因此，样本被正确分类的概率可以表示为：\n",
    "\n",
    "$$\n",
    "\\begin{aligned}\n",
    "P(y|x;\\theta) &= P(y=1|x;\\theta)^y\\cdot P(y=0|x;\\theta)^{(1-y)} \\\\\n",
    "&= [h_{\\theta}(x)]^y\\cdot [1 - h_{\\theta}(x)]^{1-y}\n",
    "\\end{aligned}\n",
    "$$\n",
    "\n",
    "综上所述，我们可以将逻辑回归模型的损失函数定义为对所有样本的正确分类概率求平均，即：\n",
    "\n",
    "$$\n",
    "J(\\theta) = - \\frac{1}{m} \\sum_{i=1}^{m} [y^{(i)} \\log h_{\\theta}(x^{(i)}) + (1-y^{(i)}) \\log (1-h_{\\theta}(x^{(i)}))]\n",
    "$$\n"
   ],
   "metadata": {
    "collapsed": false
   }
  },
  {
   "cell_type": "code",
   "execution_count": null,
   "outputs": [],
   "source": [],
   "metadata": {
    "collapsed": false
   }
  },
  {
   "cell_type": "markdown",
   "source": [
    "在逻辑回归中，$y=1|x;\\theta$ 表示给定样本 $x$ 的情况下，其真实标签 $y$ 为类别1的概率，即样本 $x$ 属于类别1的概率。而 $\\theta$ 是逻辑回归模型的参数，$h_{\\theta}(x)$ 表示模型预测样本 $x$ 属于类别1的概率。因此，$P(y=1|x;\\theta)$ 表示在模型参数为 $\\theta$ 的情况下，对于给定样本 $x$，其真实标签 $y=1$ 的概率。"
   ],
   "metadata": {
    "collapsed": false
   }
  },
  {
   "cell_type": "markdown",
   "source": [
    "在逻辑回归中，$P(y|x;\\theta)$ 表示给定输入样本 $x$，在模型参数为 $\\theta$ 的情况下，预测该样本的标签为 $y$ 的概率。其中，$y$ 表示样本的真实标签，$x$ 是输入的样本特征，$\\theta$ 是模型的参数。因此，$y|x$ 表示在给定输入样本为 $x$ 的情况下，样本的真实标签为 $y$ 的概率。"
   ],
   "metadata": {
    "collapsed": false
   }
  },
  {
   "cell_type": "markdown",
   "source": [],
   "metadata": {
    "collapsed": false
   }
  },
  {
   "cell_type": "markdown",
   "source": [
    "$$P(y) = \\begin{cases} h_{\\theta}(x) & \\text{if } y = 1 \\\\ 1 - h_{\\theta}(x) & \\text{if } y = 0 \\end{cases} $$\n",
    "\n",
    "这个公式是二元逻辑回归的概率预测公式，用于预测输出变量 y 为 1 或 0 的概率。其中 $h_{\\theta}(x)$ 是一个称为逻辑回归的假设函数。在公式中，当输出变量 y 为 1 时，预测的概率为 $h_{\\theta}(x)$，当输出变量 y 为 0 时，预测的概率为 $1 - h_{\\theta}(x)$。这个公式是用来描述输出变量 y 在给定输入变量 x 和模型参数 $\\theta$ 的情况下，取值为 1 或 0 的概率。"
   ],
   "metadata": {
    "collapsed": false
   }
  },
  {
   "cell_type": "markdown",
   "source": [
    "逻辑回归的假设函数 $h_{\\theta}(x)$ 的取值范围是 0 到 1，因为它是一个 logistic 函数，具体的形式是 $h_{\\theta}(x) = \\frac{1}{1+e^{-\\theta^Tx}}$。在这个函数中，$\\theta^Tx$ 表示模型的线性部分，$e$ 表示自然常数，因此 $h_{\\theta}(x)$ 的值域在 0 到 1 之间，可以表示概率的取值范围。当 $h_{\\theta}(x)$ 的值越接近 1 时，表示样本属于正例的概率越大，当 $h_{\\theta}(x)$ 的值越接近 0 时，表示样本属于反例的概率越大。"
   ],
   "metadata": {
    "collapsed": false
   }
  },
  {
   "cell_type": "markdown",
   "source": [
    "在逻辑回归中，$\\theta$ 通常表示模型的参数向量，也称为权重向量。在逻辑回归中，模型的目标是通过训练数据来学习一个可以将输入特征 $x$ 映射到输出标签 $y$ 的函数，这个函数的形式是 $h_{\\theta}(x)=\\frac{1}{1+e^{-\\theta^Tx}}$。其中，$\\theta$ 是模型的参数向量，$x$ 是输入样本的特征向量，$h_{\\theta}(x)$ 是该样本属于正例的概率。在训练模型的过程中，我们需要通过梯度下降等方法来估计 $\\theta$ 的值，使得模型的预测结果与实际标签值的误差最小化。因此，$\\theta$ 在逻辑回归中代表了模型的参数或权重，是模型学习的关键部分。\n",
    "\n",
    "\n",
    "\n",
    "$$\\large h_{\\theta}(x) = \\theta_{0} + \\theta_{1}x_{1} + \\theta_{2}x_{2} + \\cdots + \\theta_{n}x_{n}$$\n",
    "其中，$h_{\\theta}(x)$ 表示模型的预测值，$x_{1} \\sim x_{n}$ 为输入特征，$\\theta_{0} \\sim \\theta_{n}$ 为模型参数\n",
    "\n",
    "这个表达式中的符号 \"|\" 表示 \"给定\" 的含义。在这个表达式中，$\\mathcal{F}$ 表示一个条件概率分布的集合，其中 $P(Y|\\textbf X)$ 表示在给定输入变量 $\\textbf X$ 的条件下输出变量 $Y$ 的概率分布。因此，这个表达式可以被理解为：$\\mathcal{F}$ 是所有满足条件 $P(Y|\\textbf X)$ 的条件概率分布的集合。"
   ],
   "metadata": {
    "collapsed": false
   }
  },
  {
   "cell_type": "code",
   "execution_count": 1,
   "outputs": [
    {
     "ename": "TypeError",
     "evalue": "FigureBase.gca() got an unexpected keyword argument 'projection'",
     "output_type": "error",
     "traceback": [
      "\u001B[0;31m---------------------------------------------------------------------------\u001B[0m",
      "\u001B[0;31mTypeError\u001B[0m                                 Traceback (most recent call last)",
      "Cell \u001B[0;32mIn[1], line 16\u001B[0m\n\u001B[1;32m     14\u001B[0m \u001B[38;5;66;03m# 绘制图形\u001B[39;00m\n\u001B[1;32m     15\u001B[0m fig \u001B[38;5;241m=\u001B[39m plt\u001B[38;5;241m.\u001B[39mfigure()\n\u001B[0;32m---> 16\u001B[0m ax \u001B[38;5;241m=\u001B[39m \u001B[43mfig\u001B[49m\u001B[38;5;241;43m.\u001B[39;49m\u001B[43mgca\u001B[49m\u001B[43m(\u001B[49m\u001B[43mprojection\u001B[49m\u001B[38;5;241;43m=\u001B[39;49m\u001B[38;5;124;43m'\u001B[39;49m\u001B[38;5;124;43m3d\u001B[39;49m\u001B[38;5;124;43m'\u001B[39;49m\u001B[43m)\u001B[49m\n\u001B[1;32m     17\u001B[0m surf \u001B[38;5;241m=\u001B[39m ax\u001B[38;5;241m.\u001B[39mplot_surface(X, Y, Z, cmap\u001B[38;5;241m=\u001B[39m\u001B[38;5;124m'\u001B[39m\u001B[38;5;124mcoolwarm\u001B[39m\u001B[38;5;124m'\u001B[39m)\n\u001B[1;32m     18\u001B[0m ax\u001B[38;5;241m.\u001B[39mset_xlabel(\u001B[38;5;124m'\u001B[39m\u001B[38;5;124mX\u001B[39m\u001B[38;5;124m'\u001B[39m)\n",
      "\u001B[0;31mTypeError\u001B[0m: FigureBase.gca() got an unexpected keyword argument 'projection'"
     ]
    },
    {
     "data": {
      "text/plain": "<Figure size 640x480 with 0 Axes>"
     },
     "metadata": {},
     "output_type": "display_data"
    }
   ],
   "source": [
    "import matplotlib.pyplot as plt\n",
    "import numpy as np\n",
    "\n",
    "# 定义函数\n",
    "def L(Y, f_X):\n",
    "    return (Y - f_X)**2\n",
    "\n",
    "# 生成数据\n",
    "Y = np.linspace(-10, 10, 100)\n",
    "X = np.linspace(-10, 10, 100)\n",
    "X, Y = np.meshgrid(X, Y)\n",
    "Z = L(Y, X)\n",
    "\n",
    "# 绘制图形\n",
    "fig = plt.figure()\n",
    "ax = fig.gca(projection='2d')\n",
    "surf = ax.plot_surface(X, Y, Z, cmap='coolwarm')\n",
    "ax.set_xlabel('X')\n",
    "ax.set_ylabel('Y')\n",
    "ax.set_zlabel('L(Y, f(X))')\n",
    "plt.show()\n"
   ],
   "metadata": {
    "collapsed": false,
    "ExecuteTime": {
     "end_time": "2023-06-06T11:53:17.153246Z",
     "start_time": "2023-06-06T11:53:15.870357Z"
    }
   }
  },
  {
   "cell_type": "code",
   "execution_count": null,
   "outputs": [],
   "source": [],
   "metadata": {
    "collapsed": false
   }
  }
 ],
 "metadata": {
  "kernelspec": {
   "display_name": "Python 3",
   "language": "python",
   "name": "python3"
  },
  "language_info": {
   "codemirror_mode": {
    "name": "ipython",
    "version": 2
   },
   "file_extension": ".py",
   "mimetype": "text/x-python",
   "name": "python",
   "nbconvert_exporter": "python",
   "pygments_lexer": "ipython2",
   "version": "2.7.6"
  }
 },
 "nbformat": 4,
 "nbformat_minor": 0
}
